{
 "cells": [
  {
   "cell_type": "markdown",
   "metadata": {},
   "source": [
    "# 日付ごと・地域ごとの男性の割合をだす\n",
    "\n",
    "こういう理由でこの調査を行いますよ。\n",
    "\n",
    "issueのリンク: http://example.com/\n",
    "\n",
    "### 期間\n",
    "6/1 ~ 6/3\n",
    "\n",
    "## 結果\n",
    "こんな感じになりました。\n",
    "\n",
    "最終結果はページ上部にも持ってきておくと、githubのリンクから見にきた人が見やすいと思うのでいつも上に持ってきてます。"
   ]
  },
  {
   "cell_type": "markdown",
   "metadata": {},
   "source": [
    "### 地域ごと、日付ごとの男性率（%）"
   ]
  },
  {
   "cell_type": "code",
   "execution_count": 28,
   "metadata": {},
   "outputs": [
    {
     "data": {
      "text/html": [
       "<div>\n",
       "<style scoped>\n",
       "    .dataframe tbody tr th:only-of-type {\n",
       "        vertical-align: middle;\n",
       "    }\n",
       "\n",
       "    .dataframe tbody tr th {\n",
       "        vertical-align: top;\n",
       "    }\n",
       "\n",
       "    .dataframe thead th {\n",
       "        text-align: right;\n",
       "    }\n",
       "</style>\n",
       "<table border=\"1\" class=\"dataframe\">\n",
       "  <thead>\n",
       "    <tr style=\"text-align: right;\">\n",
       "      <th></th>\n",
       "      <th>06/01</th>\n",
       "      <th>06/02</th>\n",
       "      <th>06/03</th>\n",
       "    </tr>\n",
       "  </thead>\n",
       "  <tbody>\n",
       "    <tr>\n",
       "      <th>okinawa</th>\n",
       "      <td>51.56</td>\n",
       "      <td>50.12</td>\n",
       "      <td>52.36</td>\n",
       "    </tr>\n",
       "    <tr>\n",
       "      <th>tokyo</th>\n",
       "      <td>50.63</td>\n",
       "      <td>50.91</td>\n",
       "      <td>50.56</td>\n",
       "    </tr>\n",
       "    <tr>\n",
       "      <th>osaka</th>\n",
       "      <td>50.63</td>\n",
       "      <td>50.98</td>\n",
       "      <td>50.63</td>\n",
       "    </tr>\n",
       "    <tr>\n",
       "      <th>hokkaido</th>\n",
       "      <td>50.85</td>\n",
       "      <td>51.31</td>\n",
       "      <td>49.14</td>\n",
       "    </tr>\n",
       "  </tbody>\n",
       "</table>\n",
       "</div>"
      ],
      "text/plain": [
       "          06/01  06/02  06/03\n",
       "okinawa   51.56  50.12  52.36\n",
       "tokyo     50.63  50.91  50.56\n",
       "osaka     50.63  50.98  50.63\n",
       "hokkaido  50.85  51.31  49.14"
      ]
     },
     "execution_count": 28,
     "metadata": {},
     "output_type": "execute_result"
    }
   ],
   "source": [
    "pd.DataFrame.from_dict(area2percentage_man, orient='index', columns=dates)"
   ]
  },
  {
   "cell_type": "markdown",
   "metadata": {},
   "source": [
    "## 考察\n",
    "なんか書いても良いかも"
   ]
  },
  {
   "cell_type": "markdown",
   "metadata": {},
   "source": [
    "---\n",
    "markdownなのでハイフン3つで区切れる"
   ]
  },
  {
   "cell_type": "markdown",
   "metadata": {},
   "source": [
    "\n",
    "\n",
    "\n",
    "# 以下、結果を出すために書いたスクリプト"
   ]
  },
  {
   "cell_type": "code",
   "execution_count": 1,
   "metadata": {},
   "outputs": [],
   "source": [
    "# import pandas as pd  # あらかじめimportしてる（上にある記述参照）ので不要\n",
    "csv_file = \"./data/example.csv\""
   ]
  },
  {
   "cell_type": "code",
   "execution_count": 2,
   "metadata": {},
   "outputs": [],
   "source": [
    "df = pd.read_csv(csv_file)"
   ]
  },
  {
   "cell_type": "code",
   "execution_count": 17,
   "metadata": {},
   "outputs": [
    {
     "data": {
      "text/html": [
       "<div>\n",
       "<style scoped>\n",
       "    .dataframe tbody tr th:only-of-type {\n",
       "        vertical-align: middle;\n",
       "    }\n",
       "\n",
       "    .dataframe tbody tr th {\n",
       "        vertical-align: top;\n",
       "    }\n",
       "\n",
       "    .dataframe thead th {\n",
       "        text-align: right;\n",
       "    }\n",
       "</style>\n",
       "<table border=\"1\" class=\"dataframe\">\n",
       "  <thead>\n",
       "    <tr style=\"text-align: right;\">\n",
       "      <th></th>\n",
       "      <th>date</th>\n",
       "      <th>area</th>\n",
       "      <th>gender</th>\n",
       "      <th>count</th>\n",
       "    </tr>\n",
       "  </thead>\n",
       "  <tbody>\n",
       "    <tr>\n",
       "      <th>0</th>\n",
       "      <td>2018-06-01</td>\n",
       "      <td>okinawa</td>\n",
       "      <td>0</td>\n",
       "      <td>16187</td>\n",
       "    </tr>\n",
       "    <tr>\n",
       "      <th>1</th>\n",
       "      <td>2018-06-01</td>\n",
       "      <td>okinawa</td>\n",
       "      <td>1</td>\n",
       "      <td>17230</td>\n",
       "    </tr>\n",
       "    <tr>\n",
       "      <th>2</th>\n",
       "      <td>2018-06-01</td>\n",
       "      <td>tokyo</td>\n",
       "      <td>0</td>\n",
       "      <td>26833</td>\n",
       "    </tr>\n",
       "    <tr>\n",
       "      <th>3</th>\n",
       "      <td>2018-06-01</td>\n",
       "      <td>tokyo</td>\n",
       "      <td>1</td>\n",
       "      <td>27517</td>\n",
       "    </tr>\n",
       "    <tr>\n",
       "      <th>4</th>\n",
       "      <td>2018-06-01</td>\n",
       "      <td>osaka</td>\n",
       "      <td>0</td>\n",
       "      <td>24596</td>\n",
       "    </tr>\n",
       "    <tr>\n",
       "      <th>5</th>\n",
       "      <td>2018-06-01</td>\n",
       "      <td>osaka</td>\n",
       "      <td>1</td>\n",
       "      <td>25226</td>\n",
       "    </tr>\n",
       "    <tr>\n",
       "      <th>6</th>\n",
       "      <td>2018-06-01</td>\n",
       "      <td>hokkaido</td>\n",
       "      <td>0</td>\n",
       "      <td>19765</td>\n",
       "    </tr>\n",
       "    <tr>\n",
       "      <th>7</th>\n",
       "      <td>2018-06-01</td>\n",
       "      <td>hokkaido</td>\n",
       "      <td>1</td>\n",
       "      <td>20449</td>\n",
       "    </tr>\n",
       "    <tr>\n",
       "      <th>8</th>\n",
       "      <td>2018-06-02</td>\n",
       "      <td>okinawa</td>\n",
       "      <td>0</td>\n",
       "      <td>17923</td>\n",
       "    </tr>\n",
       "    <tr>\n",
       "      <th>9</th>\n",
       "      <td>2018-06-02</td>\n",
       "      <td>okinawa</td>\n",
       "      <td>1</td>\n",
       "      <td>18011</td>\n",
       "    </tr>\n",
       "    <tr>\n",
       "      <th>10</th>\n",
       "      <td>2018-06-02</td>\n",
       "      <td>tokyo</td>\n",
       "      <td>0</td>\n",
       "      <td>30111</td>\n",
       "    </tr>\n",
       "  </tbody>\n",
       "</table>\n",
       "</div>"
      ],
      "text/plain": [
       "          date      area  gender  count\n",
       "0   2018-06-01   okinawa       0  16187\n",
       "1   2018-06-01   okinawa       1  17230\n",
       "2   2018-06-01     tokyo       0  26833\n",
       "3   2018-06-01     tokyo       1  27517\n",
       "4   2018-06-01     osaka       0  24596\n",
       "5   2018-06-01     osaka       1  25226\n",
       "6   2018-06-01  hokkaido       0  19765\n",
       "7   2018-06-01  hokkaido       1  20449\n",
       "8   2018-06-02   okinawa       0  17923\n",
       "9   2018-06-02   okinawa       1  18011\n",
       "10  2018-06-02     tokyo       0  30111"
      ]
     },
     "execution_count": 17,
     "metadata": {},
     "output_type": "execute_result"
    }
   ],
   "source": [
    "# 11件だけ表示\n",
    "# このデータを取得する際、日付、area、genderでgroup byしてるので綺麗に並んでる\n",
    "df[:11]"
   ]
  },
  {
   "cell_type": "code",
   "execution_count": 6,
   "metadata": {},
   "outputs": [],
   "source": [
    "records = df.to_dict(\"records\")  # 各行を、表のheaderをkey、カラムの中身をvalueとするdictに変換"
   ]
  },
  {
   "cell_type": "code",
   "execution_count": 8,
   "metadata": {},
   "outputs": [
    {
     "data": {
      "text/plain": [
       "[{'area': 'okinawa', 'count': 16187, 'date': '2018-06-01', 'gender': 0},\n",
       " {'area': 'okinawa', 'count': 17230, 'date': '2018-06-01', 'gender': 1},\n",
       " {'area': 'tokyo', 'count': 26833, 'date': '2018-06-01', 'gender': 0}]"
      ]
     },
     "execution_count": 8,
     "metadata": {},
     "output_type": "execute_result"
    }
   ],
   "source": [
    "records[:3]"
   ]
  },
  {
   "cell_type": "markdown",
   "metadata": {},
   "source": [
    "#### 最終的には、行が地域、列が日付となるような表にしたい。\n",
    "\n",
    "from_dictを使えば良さそう。\n",
    "https://pandas.pydata.org/pandas-docs/stable/generated/pandas.DataFrame.from_dict.html\n",
    "\n",
    "```\n",
    ">>> data = {'row_1': [3, 2, 1, 0], 'row_2': ['a', 'b', 'c', 'd']}\n",
    ">>> pd.DataFrame.from_dict(data, orient='index',\n",
    "...                        columns=['A', 'B', 'C', 'D'])\n",
    "       A  B  C  D\n",
    "row_1  3  2  1  0\n",
    "row_2  a  b  c  d\n",
    "```\n",
    "\n",
    "今回は、ABCDの位置に日付リスト、row_1row_2の位置にareaがくれば良い。日付リストと、keyをarea、valueを日付順の男性率リストとした辞書が作れれば目的の表が作れます。\n",
    "\n",
    "以下2つの変数を作る\n",
    "\n",
    "```\n",
    "dates: [\"6/1\", \"6/2\", \"6/3\"]\n",
    "area2percentage_man: {\"tokyo\": [6/1の男性率, 6/2の男性率, 6/3の男性率],...}\n",
    "```"
   ]
  },
  {
   "cell_type": "code",
   "execution_count": 12,
   "metadata": {},
   "outputs": [],
   "source": [
    "man_records = records[1::2]\n",
    "woman_records = records[::2]"
   ]
  },
  {
   "cell_type": "code",
   "execution_count": 13,
   "metadata": {},
   "outputs": [
    {
     "data": {
      "text/plain": [
       "[{'area': 'okinawa', 'count': 17230, 'date': '2018-06-01', 'gender': 1},\n",
       " {'area': 'tokyo', 'count': 27517, 'date': '2018-06-01', 'gender': 1},\n",
       " {'area': 'osaka', 'count': 25226, 'date': '2018-06-01', 'gender': 1}]"
      ]
     },
     "execution_count": 13,
     "metadata": {},
     "output_type": "execute_result"
    }
   ],
   "source": [
    "man_records[:3]  # 男性のrecordだけになってる（gender: 1 が男性）"
   ]
  },
  {
   "cell_type": "code",
   "execution_count": 14,
   "metadata": {},
   "outputs": [
    {
     "data": {
      "text/plain": [
       "True"
      ]
     },
     "execution_count": 14,
     "metadata": {},
     "output_type": "execute_result"
    }
   ],
   "source": [
    "len(man_records) == len(woman_records)  # listの長さ同じじゃないとおかしい"
   ]
  },
  {
   "cell_type": "code",
   "execution_count": 19,
   "metadata": {},
   "outputs": [],
   "source": [
    "from collections import defaultdict"
   ]
  },
  {
   "cell_type": "code",
   "execution_count": 24,
   "metadata": {},
   "outputs": [],
   "source": [
    "dates = []\n",
    "area2percentage_man = defaultdict(list)  # 新たなkeyができた時にvalueはデフォルトでlistとしてくれる\n",
    "\n",
    "for (man_record, woman_record) in zip(man_records, woman_records):\n",
    "    area = man_record['area']\n",
    "    date = man_record['date']\n",
    "    shortened_date = \"/\".join(date.split(\"-\")[1:]) # 2018-06-01 は長いので 06/01 にする\n",
    "    \n",
    "    \n",
    "    # 日付リスト作っておく\n",
    "    if shortened_date not in dates:\n",
    "        dates.append(shortened_date)\n",
    "        \n",
    "    # 男性率\n",
    "    # defaultdictのおかげでいきなりappendできる\n",
    "    total = man_record['count'] + woman_record['count']\n",
    "    rate = 1.0 * man_record['count'] / total  # 0.5156058293682856 のような形\n",
    "    percentage = round(rate * 100, 2)  # %表示 （小数第二位まで）\n",
    "    area2percentage_man[area].append(percentage)"
   ]
  },
  {
   "cell_type": "code",
   "execution_count": 25,
   "metadata": {},
   "outputs": [
    {
     "data": {
      "text/plain": [
       "['06/01', '06/02', '06/03']"
      ]
     },
     "execution_count": 25,
     "metadata": {},
     "output_type": "execute_result"
    }
   ],
   "source": [
    "dates"
   ]
  },
  {
   "cell_type": "code",
   "execution_count": 26,
   "metadata": {
    "scrolled": true
   },
   "outputs": [
    {
     "data": {
      "text/plain": [
       "defaultdict(list,\n",
       "            {'hokkaido': [50.85, 51.31, 49.14],\n",
       "             'okinawa': [51.56, 50.12, 52.36],\n",
       "             'osaka': [50.63, 50.98, 50.63],\n",
       "             'tokyo': [50.63, 50.91, 50.56]})"
      ]
     },
     "execution_count": 26,
     "metadata": {},
     "output_type": "execute_result"
    }
   ],
   "source": [
    "area2percentage_man"
   ]
  },
  {
   "cell_type": "markdown",
   "metadata": {},
   "source": [
    "### 地域ごと、日付ごとの男性率（%）"
   ]
  },
  {
   "cell_type": "code",
   "execution_count": 27,
   "metadata": {},
   "outputs": [
    {
     "data": {
      "text/html": [
       "<div>\n",
       "<style scoped>\n",
       "    .dataframe tbody tr th:only-of-type {\n",
       "        vertical-align: middle;\n",
       "    }\n",
       "\n",
       "    .dataframe tbody tr th {\n",
       "        vertical-align: top;\n",
       "    }\n",
       "\n",
       "    .dataframe thead th {\n",
       "        text-align: right;\n",
       "    }\n",
       "</style>\n",
       "<table border=\"1\" class=\"dataframe\">\n",
       "  <thead>\n",
       "    <tr style=\"text-align: right;\">\n",
       "      <th></th>\n",
       "      <th>06/01</th>\n",
       "      <th>06/02</th>\n",
       "      <th>06/03</th>\n",
       "    </tr>\n",
       "  </thead>\n",
       "  <tbody>\n",
       "    <tr>\n",
       "      <th>okinawa</th>\n",
       "      <td>51.56</td>\n",
       "      <td>50.12</td>\n",
       "      <td>52.36</td>\n",
       "    </tr>\n",
       "    <tr>\n",
       "      <th>tokyo</th>\n",
       "      <td>50.63</td>\n",
       "      <td>50.91</td>\n",
       "      <td>50.56</td>\n",
       "    </tr>\n",
       "    <tr>\n",
       "      <th>osaka</th>\n",
       "      <td>50.63</td>\n",
       "      <td>50.98</td>\n",
       "      <td>50.63</td>\n",
       "    </tr>\n",
       "    <tr>\n",
       "      <th>hokkaido</th>\n",
       "      <td>50.85</td>\n",
       "      <td>51.31</td>\n",
       "      <td>49.14</td>\n",
       "    </tr>\n",
       "  </tbody>\n",
       "</table>\n",
       "</div>"
      ],
      "text/plain": [
       "          06/01  06/02  06/03\n",
       "okinawa   51.56  50.12  52.36\n",
       "tokyo     50.63  50.91  50.56\n",
       "osaka     50.63  50.98  50.63\n",
       "hokkaido  50.85  51.31  49.14"
      ]
     },
     "execution_count": 27,
     "metadata": {},
     "output_type": "execute_result"
    }
   ],
   "source": [
    "pd.DataFrame.from_dict(area2percentage_man, orient='index', columns=dates)"
   ]
  },
  {
   "cell_type": "code",
   "execution_count": null,
   "metadata": {},
   "outputs": [],
   "source": []
  }
 ],
 "metadata": {
  "kernelspec": {
   "display_name": "Python 3",
   "language": "python",
   "name": "python3"
  },
  "language_info": {
   "codemirror_mode": {
    "name": "ipython",
    "version": 3
   },
   "file_extension": ".py",
   "mimetype": "text/x-python",
   "name": "python",
   "nbconvert_exporter": "python",
   "pygments_lexer": "ipython3",
   "version": "3.5.1"
  }
 },
 "nbformat": 4,
 "nbformat_minor": 2
}
